{
 "cells": [
  {
   "cell_type": "markdown",
   "metadata": {},
   "source": [
    "# Daily Byte"
   ]
  },
  {
   "cell_type": "markdown",
   "metadata": {},
   "source": [
    "### Jun 22nd: Reverse String  \n",
    "\n",
    "Given a string, reverse all of its characters and return the resulting string.\n",
    "\n",
    "Ex: Given the following strings...  \n",
    "\n",
    "“Cat”, return “taC”  \n",
    "“The Daily Byte”, return \"etyB yliaD ehT”  \n",
    "“civic”, return “civic”"
   ]
  },
  {
   "cell_type": "code",
   "execution_count": 1,
   "metadata": {},
   "outputs": [],
   "source": [
    "def reverse_string(string):\n",
    "    \n",
    "    return string[::-1]"
   ]
  },
  {
   "cell_type": "markdown",
   "metadata": {},
   "source": [
    "### Jun 23rd: Valid Palindrome  \n",
    "\n",
    "Given a string, return whether or not it forms a palindrome ignoring case and non-alphabetical characters.  \n",
    "Note: a palindrome is a sequence of characters that reads the same forwards and backwards.  \n",
    "\n",
    "Ex: Given the following strings...  \n",
    "\n",
    "\"level\", return true  \n",
    "\"algorithm\", return false  \n",
    "\"A man, a plan, a canal: Panama.\", return true  "
   ]
  },
  {
   "cell_type": "code",
   "execution_count": 38,
   "metadata": {},
   "outputs": [],
   "source": [
    "def valid_palindrome(string):\n",
    "    \n",
    "    # Removing special then numeric characters in lower-case string, then joining\n",
    "    chars = [char for char in string.lower() if (char.isalnum() and not char.isdigit())]\n",
    "    text = ''.join(chars)\n",
    "    \n",
    "    # Checking if reverse of text is equal to forward of text\n",
    "    if text == text[::-1]:\n",
    "        return True\n",
    "    else:\n",
    "        return False"
   ]
  },
  {
   "cell_type": "markdown",
   "metadata": {},
   "source": [
    "### Jun 24th: Vacuum Cleaner Route  \n",
    "\n",
    "Given a string representing the sequence of moves a robot vacuum makes, return whether or not it will return to its original position. The string will only contain L, R, U, and D characters, representing left, right, up, and down respectively.  \n",
    "\n",
    "Ex: Given the following strings...  \n",
    "\n",
    "\"LR\", return true  \n",
    "\"URURD\", return false  \n",
    "\"RUULLDRD\", return true  "
   ]
  },
  {
   "cell_type": "code",
   "execution_count": 64,
   "metadata": {},
   "outputs": [],
   "source": [
    "def vacuum_cleaner_route(string):\n",
    "    # Treat problem as measuring the deviation from (0, 0) starting point in (x, y) coordinate system\n",
    "    \n",
    "    deviation = 0\n",
    "    \n",
    "    # Measure of deviation from (0, 0) for each character\n",
    "    deviation_amount = {\n",
    "                        'L': -1,\n",
    "                        'R': 1,\n",
    "                        'U': 1,\n",
    "                        'D': -1\n",
    "                        }\n",
    "    \n",
    "    # Calculate the total deviation from (0, 0) for all characters\n",
    "    for char in [char for char in string]:\n",
    "        \n",
    "        deviation += deviation_amount[char]\n",
    "    \n",
    "    # Check to see if total deviation \n",
    "    if deviation == 0:\n",
    "        return True\n",
    "    else:\n",
    "        return False"
   ]
  },
  {
   "cell_type": "code",
   "execution_count": null,
   "metadata": {},
   "outputs": [],
   "source": []
  },
  {
   "cell_type": "code",
   "execution_count": null,
   "metadata": {},
   "outputs": [],
   "source": []
  },
  {
   "cell_type": "code",
   "execution_count": null,
   "metadata": {},
   "outputs": [],
   "source": []
  },
  {
   "cell_type": "code",
   "execution_count": null,
   "metadata": {},
   "outputs": [],
   "source": []
  }
 ],
 "metadata": {
  "kernelspec": {
   "display_name": "Python 3",
   "language": "python",
   "name": "python3"
  },
  "language_info": {
   "codemirror_mode": {
    "name": "ipython",
    "version": 3
   },
   "file_extension": ".py",
   "mimetype": "text/x-python",
   "name": "python",
   "nbconvert_exporter": "python",
   "pygments_lexer": "ipython3",
   "version": "3.7.9"
  }
 },
 "nbformat": 4,
 "nbformat_minor": 4
}
