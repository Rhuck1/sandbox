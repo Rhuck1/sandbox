{
 "cells": [
  {
   "cell_type": "markdown",
   "metadata": {},
   "source": [
    "# Daily Byte"
   ]
  },
  {
   "cell_type": "markdown",
   "metadata": {},
   "source": [
    "### Jun 22nd: Reverse String  \n",
    "\n",
    "Given a string, reverse all of its characters and return the resulting string.\n",
    "\n",
    "Ex: Given the following strings...  \n",
    "\n",
    "“Cat”, return “taC”  \n",
    "“The Daily Byte”, return \"etyB yliaD ehT”  \n",
    "“civic”, return “civic”"
   ]
  },
  {
   "cell_type": "code",
   "execution_count": 1,
   "metadata": {},
   "outputs": [],
   "source": [
    "def reverse_string(string):\n",
    "    \n",
    "    return string[::-1]"
   ]
  },
  {
   "cell_type": "markdown",
   "metadata": {},
   "source": [
    "### Jun 23rd: Valid Palindrome  \n",
    "\n",
    "Given a string, return whether or not it forms a palindrome ignoring case and non-alphabetical characters.  \n",
    "Note: A palindrome is a sequence of characters that reads the same forwards and backwards.  \n",
    "\n",
    "Ex: Given the following strings...  \n",
    "\n",
    "\"level\", return true  \n",
    "\"algorithm\", return false  \n",
    "\"A man, a plan, a canal: Panama.\", return true  "
   ]
  },
  {
   "cell_type": "code",
   "execution_count": 38,
   "metadata": {},
   "outputs": [],
   "source": [
    "def valid_palindrome(string):\n",
    "    \n",
    "    # Removing special then numeric characters in lower-case string, then joining\n",
    "    chars = [char for char in string.lower() if (char.isalnum() and not char.isdigit())]\n",
    "    text = ''.join(chars)\n",
    "    \n",
    "    # Checking if reverse of text is equal to forward of text\n",
    "    if text == text[::-1]:\n",
    "        return True\n",
    "    else:\n",
    "        return False"
   ]
  },
  {
   "cell_type": "markdown",
   "metadata": {},
   "source": [
    "### Jun 24th: Vacuum Cleaner Route  \n",
    "\n",
    "Given a string representing the sequence of moves a robot vacuum makes, return whether or not it will return to its original position. The string will only contain L, R, U, and D characters, representing left, right, up, and down respectively.  \n",
    "\n",
    "Ex: Given the following strings...  \n",
    "\n",
    "\"LR\", return true  \n",
    "\"URURD\", return false  \n",
    "\"RUULLDRD\", return true  "
   ]
  },
  {
   "cell_type": "code",
   "execution_count": 64,
   "metadata": {},
   "outputs": [],
   "source": [
    "def vacuum_cleaner_route(string):\n",
    "    # Treat problem as measuring the deviation from (0, 0) starting point in (x, y) coordinate system\n",
    "    \n",
    "    deviation = 0\n",
    "    \n",
    "    # Measure of deviation from (0, 0) for each character\n",
    "    deviation_amount = {\n",
    "                        'L': -1,\n",
    "                        'R': 1,\n",
    "                        'U': 1,\n",
    "                        'D': -1\n",
    "                        }\n",
    "    \n",
    "    # Calculate the total deviation from (0, 0) for all characters\n",
    "    for char in [char for char in string]:\n",
    "        \n",
    "        deviation += deviation_amount[char]\n",
    "    \n",
    "    # Check to see if total deviation \n",
    "    if deviation == 0:\n",
    "        return True\n",
    "    else:\n",
    "        return False"
   ]
  },
  {
   "cell_type": "markdown",
   "metadata": {},
   "source": [
    "### Jun 25th: Correct Capitalization  \n",
    "\n",
    "Given a string, return whether or not it uses capitalization correctly. A string correctly uses capitalization if all letters are capitalized, no letters are capitalized, or only the first letter is capitalized.  \n",
    "\n",
    "Ex: Given the following strings...  \n",
    "\n",
    "\"USA\", return true  \n",
    "\"Calvin\", return true  \n",
    "\"compUter\", return false  \n",
    "\"coding\", return true"
   ]
  },
  {
   "cell_type": "code",
   "execution_count": 6,
   "metadata": {},
   "outputs": [],
   "source": [
    "def correct_capitalization(string):\n",
    "    \n",
    "    if string == string.upper() or string == string.title() or string == string.lower():\n",
    "        return True\n",
    "    else:\n",
    "        return False"
   ]
  },
  {
   "cell_type": "markdown",
   "metadata": {},
   "source": [
    "### Jun 26th: Add Binary  \n",
    "\n",
    "Given two binary strings (strings containing only 1s and 0s) return their sum (also as a binary string).  \n",
    "Note: Neither binary string will contain leading 0s unless the string itself is 0  \n",
    "\n",
    "Ex: Given the following binary strings...  \n",
    "\n",
    "\"100\" + \"1\", return \"101\"  \n",
    "\"11\" + \"1\", return \"100\"  \n",
    "\"1\" + \"0\", return  \"1\""
   ]
  },
  {
   "cell_type": "code",
   "execution_count": 34,
   "metadata": {},
   "outputs": [],
   "source": [
    "def add_binary(bin1, bin2):\n",
    "    \n",
    "    integer_sum = (int(bin1, 2) + int(bin2, 2))\n",
    "    binary_sum = bin(integer_sum)\n",
    "    \n",
    "    return binary_sum[2:]"
   ]
  },
  {
   "cell_type": "markdown",
   "metadata": {},
   "source": [
    "### Jun 27th: Longest Common Prefix  \n",
    "\n",
    "Given an array of strings, return the longest common prefix that is shared amongst all strings.  \n",
    "Note: You may assume all strings only contain lowercase alphabetical characters.  \n",
    "\n",
    "Ex: Given the following arrays...  \n",
    "\n",
    "[\"colorado\", \"color\", \"cold\"], return \"col\"  \n",
    "[\"a\", \"b\", \"c\"], return \"\"  \n",
    "[\"spot\", \"spotty\", \"spotted\"], return \"spot\""
   ]
  },
  {
   "cell_type": "code",
   "execution_count": 63,
   "metadata": {},
   "outputs": [],
   "source": [
    "def longest_common_prefix(array):\n",
    "    \n",
    "    common_prefix = ''\n",
    "    prefix = array[0]\n",
    "    \n",
    "    for word in array[1:]:\n",
    "        \n",
    "        while word[:len(prefix)] != prefix:\n",
    "            prefix = prefix[:len(prefix) - 1]\n",
    "            \n",
    "        if not prefix:\n",
    "            break   \n",
    "            \n",
    "    common_prefix = prefix\n",
    "    \n",
    "    return common_prefix          "
   ]
  },
  {
   "cell_type": "markdown",
   "metadata": {},
   "source": [
    "### Jun 28th: Valid Palindrome with Removal  \n",
    "\n",
    "Given a string and the ability to delete at most one character, return whether or not it can form a palindrome.  \n",
    "Note: A palindrome is a sequence of characters that reads the same forwards and backwards.  \n",
    "\n",
    "Ex: Given the following strings...  \n",
    "\n",
    "\"abcba\", return true  \n",
    "\"foobof\", return true (remove the first 'o', the second 'o', or 'b')  \n",
    "\"abccab\", return false"
   ]
  },
  {
   "cell_type": "code",
   "execution_count": 44,
   "metadata": {},
   "outputs": [],
   "source": [
    "def valid_palindrome_w_removal(string):\n",
    "    \n",
    "    # Removing special then numeric characters in lower-case string, then joining\n",
    "    chars = [char for char in string.lower() if (char.isalnum() and not char.isdigit())]\n",
    "    text = ''.join(chars)\n",
    "    print(text)\n",
    "    \n",
    "    for i in range(len(text)):\n",
    "        \n",
    "        # Convert text to list, del char @ specified index, join chars into word\n",
    "        text_2_lst = list(text)\n",
    "        del text_2_lst[i]\n",
    "        word = \"\".join(text_2_lst)\n",
    "        # Checking if reverse of word is equal to forward of word\n",
    "        if word == word[::-1]:\n",
    "            return True\n",
    "        \n",
    "    return False"
   ]
  },
  {
   "cell_type": "markdown",
   "metadata": {},
   "source": [
    "### Jun 29th: Two Sum  \n",
    "\n",
    "Given an array of integers, return whether or not two numbers sum to a given target, k.  \n",
    "Note: You may not sum a number with itself.  \n",
    "\n",
    "Ex: Given the following...  \n",
    "\n",
    "[1, 3, 8, 2], k = 10, return true (8 + 2)  \n",
    "[3, 9, 13, 7], k = 8, return false  \n",
    "[4, 2, 6, 5, 2], k = 4, return true (2 + 2)"
   ]
  },
  {
   "cell_type": "code",
   "execution_count": 99,
   "metadata": {},
   "outputs": [],
   "source": [
    "def two_sum(array, target): # O(n^2) complexity\n",
    "    \n",
    "    for i in range(len(array) - 1):\n",
    "        for j in range(i + 1, len(array)):\n",
    "                if array[i] + array[j] == target:\n",
    "                    return True\n",
    "    \n",
    "    return False\n",
    "\n",
    "# Tells us whether 2 nums sum to given target\n",
    "def two_sum_hash_list(array, target): # O(n) Complexity\n",
    "\n",
    "    hash_list = []\n",
    "    \n",
    "    for val in array:\n",
    "        if target - val in hash_list:\n",
    "            return True\n",
    "        else:\n",
    "            hash_list.append(val)\n",
    "            \n",
    "    return False\n",
    "\n",
    "# Returns the indicies of 2 nums that sum to given target, otherwise 'No Solution'\n",
    "def two_sum_hash_map(array, target): # O(n) Complexity\n",
    "    \n",
    "    hash_map = {} # val: idx\n",
    "    \n",
    "    for idx, val in enumerate(array):\n",
    "        diff = target - val\n",
    "        if diff in hash_map:\n",
    "            return [hash_map[diff], idx]\n",
    "        else:\n",
    "            hash_map[val] = idx\n",
    "            \n",
    "    return \"No Solution\""
   ]
  },
  {
   "cell_type": "markdown",
   "metadata": {},
   "source": [
    "### Jun 30th: Jewels and Stones  \n",
    "\n",
    "Given a string representing your stones and another string representing a list of jewels, return the number of stones that you have that are also jewels.  \n",
    "\n",
    "Ex: Given the following jewels and stones...  \n",
    "\n",
    "jewels = \"abc\", stones = \"ac\", return 2  \n",
    "jewels = \"Af\", stones = \"AaaddfFf\", return 3  \n",
    "jewels = \"AYOPD\", stones = \"ayopd\", return 0"
   ]
  },
  {
   "cell_type": "code",
   "execution_count": 48,
   "metadata": {},
   "outputs": [],
   "source": [
    "def jewels_and_stones(jewels, stones): # O(n^2) complexity\n",
    "    \n",
    "    count = 0\n",
    "    \n",
    "    for j_let in jewels:\n",
    "        for s_let in stones:\n",
    "            if j_let == s_let:\n",
    "                count += 1\n",
    "            \n",
    "    return count\n",
    "\n",
    "def jewels_and_stones_optimized(jewels, stones): # O(n) Complexity\n",
    "\n",
    "    s_set = set(jewels)\n",
    "    jewel_count = 0\n",
    "    \n",
    "    for let in stones:\n",
    "        if let in s_set:\n",
    "            jewel_count += 1\n",
    "            \n",
    "    return jewel_count"
   ]
  },
  {
   "cell_type": "markdown",
   "metadata": {},
   "source": [
    "### Jul 1st: Valid Anagram  \n",
    "\n",
    "Given two strings s and t return whether or not s is an anagram of t.  \n",
    "Note: An anagram is a word formed by reordering the letters of another word.  \n",
    "\n",
    "Ex: Given the following strings...  \n",
    "\n",
    "s = \"cat\", t = \"tac\", return true  \n",
    "s = \"listen\", t = \"silent\", return true  \n",
    "s = \"program\", t = \"function\", return false"
   ]
  },
  {
   "cell_type": "code",
   "execution_count": 85,
   "metadata": {},
   "outputs": [],
   "source": [
    "def valid_anagram(s, t):\n",
    "    \n",
    "    d = {}\n",
    "    \n",
    "    s_count = 0\n",
    "    \n",
    "    for let in t:\n",
    "        if t not in d:\n",
    "            d[let] = 1\n",
    "    for let in s:\n",
    "        if let in d:\n",
    "            s_count += 1\n",
    "                \n",
    "    if sum(d.values()) == s_count:\n",
    "        return True, d.values(), s_count\n",
    "    else:\n",
    "        return False, d.values(), s_count\n",
    "    \n",
    "def valid_anagram_sort(s, t):\n",
    "    \n",
    "    if sorted(s) == sorted(t):\n",
    "        return True\n",
    "    else:\n",
    "        return False"
   ]
  },
  {
   "cell_type": "markdown",
   "metadata": {},
   "source": [
    "### Jul 2nd: First Unique Character  \n",
    "\n",
    "Given a string, return the index of its first unique character. If a unique character does not exist, return -1.  \n",
    "\n",
    "Ex: Given the following strings...  \n",
    "\n",
    "\"abcabd\", return 2  \n",
    "\"thedailybyte\", return 1  \n",
    "\"developer\", return 0"
   ]
  },
  {
   "cell_type": "code",
   "execution_count": 89,
   "metadata": {},
   "outputs": [],
   "source": [
    "def first_unique_character(string):\n",
    "    \n",
    "    pass"
   ]
  },
  {
   "cell_type": "code",
   "execution_count": null,
   "metadata": {},
   "outputs": [],
   "source": []
  },
  {
   "cell_type": "code",
   "execution_count": null,
   "metadata": {},
   "outputs": [],
   "source": []
  },
  {
   "cell_type": "code",
   "execution_count": null,
   "metadata": {},
   "outputs": [],
   "source": []
  },
  {
   "cell_type": "code",
   "execution_count": null,
   "metadata": {},
   "outputs": [],
   "source": []
  },
  {
   "cell_type": "code",
   "execution_count": null,
   "metadata": {},
   "outputs": [],
   "source": []
  },
  {
   "cell_type": "code",
   "execution_count": null,
   "metadata": {},
   "outputs": [],
   "source": []
  },
  {
   "cell_type": "code",
   "execution_count": null,
   "metadata": {},
   "outputs": [],
   "source": []
  },
  {
   "cell_type": "code",
   "execution_count": null,
   "metadata": {},
   "outputs": [],
   "source": []
  }
 ],
 "metadata": {
  "kernelspec": {
   "display_name": "Python 3",
   "language": "python",
   "name": "python3"
  },
  "language_info": {
   "codemirror_mode": {
    "name": "ipython",
    "version": 3
   },
   "file_extension": ".py",
   "mimetype": "text/x-python",
   "name": "python",
   "nbconvert_exporter": "python",
   "pygments_lexer": "ipython3",
   "version": "3.7.9"
  }
 },
 "nbformat": 4,
 "nbformat_minor": 4
}
