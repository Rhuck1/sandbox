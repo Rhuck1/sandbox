{
 "cells": [
  {
   "cell_type": "markdown",
   "metadata": {},
   "source": [
    "# Daily Byte"
   ]
  },
  {
   "cell_type": "markdown",
   "metadata": {},
   "source": [
    "### Jun 22nd: Reverse String  \n",
    "\n",
    "Given a string, reverse all of its characters and return the resulting string.\n",
    "\n",
    "Ex: Given the following strings...  \n",
    "\n",
    "“Cat”, return “taC”  \n",
    "“The Daily Byte”, return \"etyB yliaD ehT”  \n",
    "“civic”, return “civic”"
   ]
  },
  {
   "cell_type": "code",
   "execution_count": 1,
   "metadata": {},
   "outputs": [],
   "source": [
    "def reverse_string(string):\n",
    "    \n",
    "    return string[::-1]"
   ]
  },
  {
   "cell_type": "markdown",
   "metadata": {},
   "source": [
    "### Jun 23rd: Valid Palindrome  \n",
    "\n",
    "Given a string, return whether or not it forms a palindrome ignoring case and non-alphabetical characters.  \n",
    "Note: A palindrome is a sequence of characters that reads the same forwards and backwards.  \n",
    "\n",
    "Ex: Given the following strings...  \n",
    "\n",
    "\"level\", return true  \n",
    "\"algorithm\", return false  \n",
    "\"A man, a plan, a canal: Panama.\", return true  "
   ]
  },
  {
   "cell_type": "code",
   "execution_count": 38,
   "metadata": {},
   "outputs": [],
   "source": [
    "def valid_palindrome(string):\n",
    "    \n",
    "    # Removing special then numeric characters in lower-case string, then joining\n",
    "    chars = [char for char in string.lower() if (char.isalnum() and not char.isdigit())]\n",
    "    text = ''.join(chars)\n",
    "    \n",
    "    # Checking if reverse of text is equal to forward of text\n",
    "    if text == text[::-1]:\n",
    "        return True\n",
    "    else:\n",
    "        return False"
   ]
  },
  {
   "cell_type": "markdown",
   "metadata": {},
   "source": [
    "### Jun 24th: Vacuum Cleaner Route  \n",
    "\n",
    "Given a string representing the sequence of moves a robot vacuum makes, return whether or not it will return to its original position. The string will only contain L, R, U, and D characters, representing left, right, up, and down respectively.  \n",
    "\n",
    "Ex: Given the following strings...  \n",
    "\n",
    "\"LR\", return true  \n",
    "\"URURD\", return false  \n",
    "\"RUULLDRD\", return true  "
   ]
  },
  {
   "cell_type": "code",
   "execution_count": 64,
   "metadata": {},
   "outputs": [],
   "source": [
    "def vacuum_cleaner_route(string):\n",
    "    # Treat problem as measuring the deviation from (0, 0) starting point in (x, y) coordinate system\n",
    "    \n",
    "    deviation = 0\n",
    "    \n",
    "    # Measure of deviation from (0, 0) for each character\n",
    "    deviation_amount = {\n",
    "                        'L': -1,\n",
    "                        'R': 1,\n",
    "                        'U': 1,\n",
    "                        'D': -1\n",
    "                        }\n",
    "    \n",
    "    # Calculate the total deviation from (0, 0) for all characters\n",
    "    for char in [char for char in string]:\n",
    "        \n",
    "        deviation += deviation_amount[char]\n",
    "    \n",
    "    # Check to see if total deviation \n",
    "    if deviation == 0:\n",
    "        return True\n",
    "    else:\n",
    "        return False"
   ]
  },
  {
   "cell_type": "markdown",
   "metadata": {},
   "source": [
    "### Jun 25th: Correct Capitalization  \n",
    "\n",
    "Given a string, return whether or not it uses capitalization correctly. A string correctly uses capitalization if all letters are capitalized, no letters are capitalized, or only the first letter is capitalized.  \n",
    "\n",
    "Ex: Given the following strings...  \n",
    "\n",
    "\"USA\", return true  \n",
    "\"Calvin\", return true  \n",
    "\"compUter\", return false  \n",
    "\"coding\", return true"
   ]
  },
  {
   "cell_type": "code",
   "execution_count": 6,
   "metadata": {},
   "outputs": [],
   "source": [
    "def correct_capitalization(string):\n",
    "    \n",
    "    if string == string.upper() or string == string.title() or string == string.lower():\n",
    "        return True\n",
    "    else:\n",
    "        return False"
   ]
  },
  {
   "cell_type": "markdown",
   "metadata": {},
   "source": [
    "### Jun 26th: Add Binary  \n",
    "\n",
    "Given two binary strings (strings containing only 1s and 0s) return their sum (also as a binary string).  \n",
    "Note: Neither binary string will contain leading 0s unless the string itself is 0  \n",
    "\n",
    "Ex: Given the following binary strings...  \n",
    "\n",
    "\"100\" + \"1\", return \"101\"  \n",
    "\"11\" + \"1\", return \"100\"  \n",
    "\"1\" + \"0\", return  \"1\""
   ]
  },
  {
   "cell_type": "code",
   "execution_count": 34,
   "metadata": {},
   "outputs": [],
   "source": [
    "def add_binary(bin1, bin2):\n",
    "    \n",
    "    integer_sum = (int(bin1, 2) + int(bin2, 2))\n",
    "    binary_sum = bin(integer_sum)\n",
    "    \n",
    "    return binary_sum[2:]"
   ]
  },
  {
   "cell_type": "markdown",
   "metadata": {},
   "source": [
    "### Jun 27th: Longest Common Prefix  \n",
    "\n",
    "Given an array of strings, return the longest common prefix that is shared amongst all strings.  \n",
    "Note: You may assume all strings only contain lowercase alphabetical characters.  \n",
    "\n",
    "Ex: Given the following arrays...  \n",
    "\n",
    "[\"colorado\", \"color\", \"cold\"], return \"col\"  \n",
    "[\"a\", \"b\", \"c\"], return \"\"  \n",
    "[\"spot\", \"spotty\", \"spotted\"], return \"spot\""
   ]
  },
  {
   "cell_type": "code",
   "execution_count": 63,
   "metadata": {},
   "outputs": [],
   "source": [
    "def longest_common_prefix(array):\n",
    "    \n",
    "    common_prefix = ''\n",
    "    prefix = array[0]\n",
    "    \n",
    "    for word in array[1:]:\n",
    "        \n",
    "        while word[:len(prefix)] != prefix:\n",
    "            prefix = prefix[:len(prefix) - 1]\n",
    "            \n",
    "        if not prefix:\n",
    "            break   \n",
    "            \n",
    "    common_prefix = prefix\n",
    "    \n",
    "    return common_prefix          "
   ]
  },
  {
   "cell_type": "markdown",
   "metadata": {},
   "source": [
    "### Jun 28th: Valid Palindrome with Removal  \n",
    "\n",
    "Given a string and the ability to delete at most one character, return whether or not it can form a palindrome.  \n",
    "Note: A palindrome is a sequence of characters that reads the same forwards and backwards.  \n",
    "\n",
    "Ex: Given the following strings...  \n",
    "\n",
    "\"abcba\", return true  \n",
    "\"foobof\", return true (remove the first 'o', the second 'o', or 'b')  \n",
    "\"abccab\", return false"
   ]
  },
  {
   "cell_type": "code",
   "execution_count": 44,
   "metadata": {},
   "outputs": [],
   "source": [
    "def valid_palindrome_w_removal(string):\n",
    "    \n",
    "    # Removing special then numeric characters in lower-case string, then joining\n",
    "    chars = [char for char in string.lower() if (char.isalnum() and not char.isdigit())]\n",
    "    text = ''.join(chars)\n",
    "    print(text)\n",
    "    \n",
    "    for i in range(len(text)):\n",
    "        \n",
    "        # Convert text to list, del char @ specified index, join chars into word\n",
    "        text_2_lst = list(text)\n",
    "        del text_2_lst[i]\n",
    "        word = \"\".join(text_2_lst)\n",
    "        # Checking if reverse of word is equal to forward of word\n",
    "        if word == word[::-1]:\n",
    "            return True\n",
    "        \n",
    "    return False"
   ]
  },
  {
   "cell_type": "markdown",
   "metadata": {},
   "source": [
    "### Jun 29th: Two Sum  \n",
    "\n",
    "Given an array of integers, return whether or not two numbers sum to a given target, k.  \n",
    "Note: You may not sum a number with itself.  \n",
    "\n",
    "Ex: Given the following...  \n",
    "\n",
    "[1, 3, 8, 2], k = 10, return true (8 + 2)  \n",
    "[3, 9, 13, 7], k = 8, return false  \n",
    "[4, 2, 6, 5, 2], k = 4, return true (2 + 2)"
   ]
  },
  {
   "cell_type": "code",
   "execution_count": 99,
   "metadata": {},
   "outputs": [],
   "source": [
    "def two_sum(array, target): # O(n^2) complexity\n",
    "    \n",
    "    for i in range(len(array) - 1):\n",
    "        for j in range(i + 1, len(array)):\n",
    "                if array[i] + array[j] == target:\n",
    "                    return True\n",
    "    \n",
    "    return False\n",
    "\n",
    "# Tells us whether 2 nums sum to given target\n",
    "def two_sum_hash_list(array, target): # O(n) Complexity\n",
    "\n",
    "    hash_list = []\n",
    "    \n",
    "    for val in array:\n",
    "        if target - val in hash_list:\n",
    "            return True\n",
    "        else:\n",
    "            hash_list.append(val)\n",
    "            \n",
    "    return False\n",
    "\n",
    "# Returns the indicies of 2 nums that sum to given target, otherwise 'No Solution'\n",
    "def two_sum_hash_map(array, target): # O(n) Complexity\n",
    "    \n",
    "    hash_map = {} # val: idx\n",
    "    \n",
    "    for idx, val in enumerate(array):\n",
    "        diff = target - val\n",
    "        if diff in hash_map:\n",
    "            return [hash_map[diff], idx]\n",
    "        else:\n",
    "            hash_map[val] = idx\n",
    "            \n",
    "    return \"No Solution\""
   ]
  },
  {
   "cell_type": "markdown",
   "metadata": {},
   "source": [
    "### Jun 30th: Jewels and Stones  \n",
    "\n",
    "Given a string representing your stones and another string representing a list of jewels, return the number of stones that you have that are also jewels.  \n",
    "\n",
    "Ex: Given the following jewels and stones...  \n",
    "\n",
    "jewels = \"abc\", stones = \"ac\", return 2  \n",
    "jewels = \"Af\", stones = \"AaaddfFf\", return 3  \n",
    "jewels = \"AYOPD\", stones = \"ayopd\", return 0"
   ]
  },
  {
   "cell_type": "code",
   "execution_count": 48,
   "metadata": {},
   "outputs": [],
   "source": [
    "def jewels_and_stones(jewels, stones): # O(n^2) complexity\n",
    "    \n",
    "    count = 0\n",
    "    \n",
    "    for j_let in jewels:\n",
    "        for s_let in stones:\n",
    "            if j_let == s_let:\n",
    "                count += 1\n",
    "            \n",
    "    return count\n",
    "\n",
    "def jewels_and_stones_optimized(jewels, stones): # O(n) Complexity\n",
    "\n",
    "    s_set = set(jewels)\n",
    "    jewel_count = 0\n",
    "    \n",
    "    for let in stones:\n",
    "        if let in s_set:\n",
    "            jewel_count += 1\n",
    "            \n",
    "    return jewel_count"
   ]
  },
  {
   "cell_type": "markdown",
   "metadata": {},
   "source": [
    "### Jul 1st: Valid Anagram  \n",
    "\n",
    "Given two strings s and t return whether or not s is an anagram of t.  \n",
    "Note: An anagram is a word formed by reordering the letters of another word.  \n",
    "\n",
    "Ex: Given the following strings...  \n",
    "\n",
    "s = \"cat\", t = \"tac\", return true  \n",
    "s = \"listen\", t = \"silent\", return true  \n",
    "s = \"program\", t = \"function\", return false"
   ]
  },
  {
   "cell_type": "code",
   "execution_count": 85,
   "metadata": {},
   "outputs": [],
   "source": [
    "def valid_anagram(s, t):\n",
    "    \n",
    "    d = {}\n",
    "    \n",
    "    s_count = 0\n",
    "    \n",
    "    for let in t:\n",
    "        if t not in d:\n",
    "            d[let] = 1\n",
    "    for let in s:\n",
    "        if let in d:\n",
    "            s_count += 1\n",
    "                \n",
    "    if sum(d.values()) == s_count:\n",
    "        return True, d.values(), s_count\n",
    "    else:\n",
    "        return False, d.values(), s_count\n",
    "    \n",
    "def valid_anagram_sort(s, t):\n",
    "    \n",
    "    if sorted(s) == sorted(t):\n",
    "        return True\n",
    "    else:\n",
    "        return False"
   ]
  },
  {
   "cell_type": "markdown",
   "metadata": {},
   "source": [
    "### Jul 2nd: First Unique Character  \n",
    "\n",
    "Given a string, return the index of its first unique character. If a unique character does not exist, return -1.  \n",
    "\n",
    "Ex: Given the following strings...  \n",
    "\n",
    "\"abcabd\", return 2  \n",
    "\"thedailybyte\", return 1  \n",
    "\"developer\", return 0"
   ]
  },
  {
   "cell_type": "code",
   "execution_count": 1,
   "metadata": {},
   "outputs": [],
   "source": [
    "def first_unique_character(string):\n",
    "    \n",
    "    d = {}\n",
    "    \n",
    "    for idx, char in enumerate(string):\n",
    "        if char not in d:\n",
    "            d[char] = [1, idx]\n",
    "        elif char in d:\n",
    "            d[char][0] += 1\n",
    "      \n",
    "    for val in d.values():\n",
    "       \n",
    "        if val[0] == 1:\n",
    "            return val[1]\n",
    "        \n",
    "    return -1  "
   ]
  },
  {
   "cell_type": "markdown",
   "metadata": {},
   "source": [
    "### Jul 4th: Intersection of Numbers  \n",
    "\n",
    "Given two integer arrays, return their intersection.  \n",
    "Note: The intersection is the set of elements that are common to both arrays.  \n",
    "\n",
    "Ex: Given the following arrays...  \n",
    "\n",
    "nums1 = [2, 4, 4, 2], nums2 = [2, 4], return [2, 4]  \n",
    "nums1 = [1, 2, 3, 3], nums2 = [3, 3], return [3]  \n",
    "nums1 = [2, 4, 6, 8], nums2 = [1, 3, 5, 7], return []"
   ]
  },
  {
   "cell_type": "code",
   "execution_count": 8,
   "metadata": {},
   "outputs": [],
   "source": [
    "def intersection_of_numbers(nums1, nums2):\n",
    "    \n",
    "    intersection = []\n",
    "    \n",
    "    for num in set(nums1):\n",
    "        if num in nums2:\n",
    "            intersection.append(num)\n",
    "            \n",
    "    return intersection"
   ]
  },
  {
   "cell_type": "markdown",
   "metadata": {},
   "source": [
    "### Jul 5th: Uncommon Words  \n",
    "\n",
    "Given two strings representing sentences, return the words that are not common to both strings (i.e. the words that only appear in one of the sentences).  \n",
    "You may assume that each sentence is a sequence of words (without punctuation) correctly separated using space characters.  \n",
    "\n",
    "Ex: given the following strings...  \n",
    "\n",
    "sentence1 = \"the quick\", sentence2 = \"brown fox\", return [\"the\", \"quick\", \"brown\", \"fox\"]  \n",
    "sentence1 = \"the tortoise beat the haire\", sentence2 = \"the tortoise lost to the haire\", return [\"beat\", \"to\", \"lost\"]  \n",
    "sentence1 = \"copper coffee pot\", sentence2 = \"hot coffee pot\", return [\"copper\", \"hot\"]"
   ]
  },
  {
   "cell_type": "code",
   "execution_count": 48,
   "metadata": {},
   "outputs": [],
   "source": [
    "def uncommon_words(sen1, sen2):\n",
    "    \n",
    "    lst1 = sen1.split()\n",
    "    lst2 = sen2.split()\n",
    "    uncommons = []\n",
    "    \n",
    "    for word in lst1:\n",
    "        if word not in lst2:\n",
    "            uncommons.append(word)\n",
    "            \n",
    "    for word in lst2:\n",
    "        if word not in lst1:\n",
    "            uncommons.append(word)\n",
    "            \n",
    "    return uncommons"
   ]
  },
  {
   "cell_type": "markdown",
   "metadata": {},
   "source": [
    "### Jul 6th: Merge Linked Lists  \n",
    "\n",
    "Given two sorted linked lists, merge them together in ascending order and return a reference to the merged list \n",
    "\n",
    "Ex: Given the following lists...  \n",
    "\n",
    "list1 = 1->2->3, list2 = 4->5->6->null, return 1->2->3->4->5->6->null  \n",
    "list1 = 1->3->5, list2 = 2->4->6->null, return 1->2->3->4->5->6->null  \n",
    "list1 = 4->4->7, list2 = 1->5->6->null, return 1->4->4->5->6->7->null"
   ]
  },
  {
   "cell_type": "code",
   "execution_count": 9,
   "metadata": {},
   "outputs": [],
   "source": [
    "def merge_linked_lists(lst1, lst2):\n",
    "    \n",
    "    sorted_lst = sorted(lst1 + lst2)\n",
    "    \n",
    "    return sorted_lst"
   ]
  },
  {
   "cell_type": "markdown",
   "metadata": {},
   "source": [
    "### Jul 7th: Remove Nth to Last Node  \n",
    "\n",
    "Given a linked list and a value n, remove the nth to last node and return the resulting list.  \n",
    "\n",
    "Ex: Given the following linked lists...  \n",
    "\n",
    "1->2->3->null, n = 1, return 1->2->null  \n",
    "1->2->3->null, n = 2, return 1->3->null  \n",
    "1->2->3->null, n = 3, return 2->3->null"
   ]
  },
  {
   "cell_type": "code",
   "execution_count": 43,
   "metadata": {},
   "outputs": [],
   "source": [
    "def remove_nth_to_last_node(lst, n):\n",
    "    \n",
    "    lst.remove(lst[-n])\n",
    "    \n",
    "    return lst    "
   ]
  },
  {
   "cell_type": "markdown",
   "metadata": {},
   "source": [
    "### Jul 8th: Remove Value  \n",
    "\n",
    "Given a linked list and a value, remove all nodes containing the provided value, and return the resulting list.  \n",
    "\n",
    "Ex: Given the following linked lists and values...  \n",
    "\n",
    "1->2->3->null, value = 3, return 1->2->null  \n",
    "8->1->1->4->12->null, value = 1, return 8->4->12->null  \n",
    "7->12->2->9->null, value = 7, return 12->2->9->null"
   ]
  },
  {
   "cell_type": "code",
   "execution_count": 54,
   "metadata": {},
   "outputs": [],
   "source": [
    "def remove_value(lst, value):\n",
    "    \n",
    "    while value in lst:\n",
    "        \n",
    "        lst.remove(value)\n",
    "    \n",
    "    return lst"
   ]
  },
  {
   "cell_type": "markdown",
   "metadata": {},
   "source": [
    "### Jul 9th: Find Middle Element  \n",
    "\n",
    "Given a non-empty linked list, return the middle node of the list. If the linked list contains an even number of elements, return the node closer to the end.\n",
    "Ex: Given the following linked lists...  \n",
    "\n",
    "1->2->3->null, return 2  \n",
    "1->2->3->4->null, return 3  \n",
    "1->null, return 1"
   ]
  },
  {
   "cell_type": "code",
   "execution_count": 5,
   "metadata": {},
   "outputs": [],
   "source": [
    "def find_middle_element(lst):\n",
    "    \n",
    "    node = len(lst) // 2\n",
    "    \n",
    "    return lst[node]"
   ]
  },
  {
   "cell_type": "markdown",
   "metadata": {},
   "source": [
    "### Jul 10th: Contains Cycle  \n",
    "\n",
    "Given a linked list, containing unique numbers, return whether or not it has a cycle.\n",
    "Note: a cycle is a circular arrangement (i.e. one node points back to a previous node)  \n",
    "\n",
    "Ex: Given the following linked lists...  \n",
    "\n",
    "1->2->3->1 -> true (3 points back to 1)  \n",
    "1->2->3 -> false  \n",
    "1->1 true (1 points to itself)"
   ]
  },
  {
   "cell_type": "code",
   "execution_count": 14,
   "metadata": {},
   "outputs": [],
   "source": [
    "def contains_cycle(lst):\n",
    "    \n",
    "    if lst[-1] == lst[0]:\n",
    "        return True\n",
    "    \n",
    "    else: return False"
   ]
  },
  {
   "cell_type": "markdown",
   "metadata": {},
   "source": [
    "### Jul 11th: Return Start of Cycle  \n",
    "\n",
    "Given a potentially cyclical linked list where each value is unique, return the node at which the cycle starts. If the list does not contain a cycle, return null.  \n",
    "\n",
    "Ex: Given the following linked lists...  \n",
    "\n",
    "1->2->3, return null  \n",
    "1->2->3->4->5->2 (5 points back to 2), return a reference to the node containing 2  \n",
    "1->9->3->7->7 (7 points to itself), return a reference to the node containing 7"
   ]
  },
  {
   "cell_type": "code",
   "execution_count": 36,
   "metadata": {},
   "outputs": [],
   "source": [
    "def return_start_of_cycle(lst):\n",
    "    \n",
    "    search_lst = lst[:-1]\n",
    "    \n",
    "    if lst[-1] in search_lst:\n",
    "        \n",
    "        for idx, val in enumerate(search_lst):\n",
    "            if lst[-1] == val:\n",
    "                return print('Node Index Reference:', idx) \n",
    "    \n",
    "    else: return print('Nothing to return')"
   ]
  },
  {
   "cell_type": "markdown",
   "metadata": {},
   "source": [
    "### July 12th: Reverse List  \n",
    "\n",
    "Given a linked list, containing unique values, reverse it, and return the result.  \n",
    "\n",
    "Ex: Given the following linked lists...  \n",
    "\n",
    "1->2->3->null, return a reference to the node that contains 3 which points to a list that looks like the following: 3->2->1->null  \n",
    "7->15->9->2->null, return a reference to the node that contains 2 which points to a list that looks like the following: 2->9->15->7->null  \n",
    "1->null, return a reference to the node that contains 1 which points to a list that looks like the following: 1->null"
   ]
  },
  {
   "cell_type": "code",
   "execution_count": 49,
   "metadata": {},
   "outputs": [],
   "source": [
    "def reverse_list(lst):\n",
    "    \n",
    "    return 'Node Index Reference: 0', lst[::-1]"
   ]
  },
  {
   "cell_type": "markdown",
   "metadata": {},
   "source": [
    "### July 13th: Validate Characters  \n",
    "\n",
    "Given a string only containing the following characters (, ), {, }, [, and ] return whether or not the opening and closing characters are in a valid order.  \n",
    "\n",
    "Ex: Given the following strings...  \n",
    "\n",
    "\"(){}[]\", return true  \n",
    "\"(({[]}))\", return true  \n",
    "\"{(})\", return false"
   ]
  },
  {
   "cell_type": "code",
   "execution_count": 5,
   "metadata": {},
   "outputs": [],
   "source": [
    "def validate_characters(string):\n",
    "    \n",
    "    opening = '{[('\n",
    "    closing = '}])'\n",
    "    brackets = {\n",
    "                ')': '(', \n",
    "                '}': '{', \n",
    "                ']': '['\n",
    "               }\n",
    "    stack = []\n",
    "    \n",
    "    for char in string:\n",
    "        if char in opening:\n",
    "            stack.append(char)\n",
    "            \n",
    "        elif char in closing:\n",
    "            if len(stack) == 0:\n",
    "                return False\n",
    "            \n",
    "            if stack[-1] == brackets[char]:\n",
    "                stack.pop()\n",
    "                \n",
    "            else: return False\n",
    "            \n",
    "    return len(stack) == 0"
   ]
  },
  {
   "cell_type": "markdown",
   "metadata": {},
   "source": [
    "### July 14th: Compare Keystrokes  \n",
    "\n",
    "Given two strings s and t, which represents a sequence of keystrokes, where # denotes a backspace, return whether or not the sequences produce the same result.  \n",
    "\n",
    "Ex: Given the following strings...  \n",
    "\n",
    "s = \"ABC#\", t = \"CD##AB\", return true  \n",
    "s = \"como#pur#ter\", t = \"computer\", return true  \n",
    "s = \"cof#dim#ng\", t = \"code\", return false"
   ]
  },
  {
   "cell_type": "code",
   "execution_count": 18,
   "metadata": {},
   "outputs": [],
   "source": [
    "def compare_keystrokes(s, t):\n",
    "    \n",
    "    s_lst = []\n",
    "    t_lst = []\n",
    "    \n",
    "    for char in s:\n",
    "        if char == '#':\n",
    "            s_lst.pop()\n",
    "        else:\n",
    "            s_lst.append(char)\n",
    "            \n",
    "    for char in t:\n",
    "        if char == '#':\n",
    "            t_lst.pop()\n",
    "        else:\n",
    "            t_lst.append(char)\n",
    "            \n",
    "    if len(s_lst) == len(t_lst):\n",
    "        return True\n",
    "    \n",
    "    else: return False"
   ]
  },
  {
   "cell_type": "markdown",
   "metadata": {},
   "source": [
    "### July 15th: Remove Adjacent Duplicates  \n",
    "\n",
    "Given a string s containing only lowercase letters, continuously remove adjacent characters that are the same and return the result.  \n",
    "\n",
    "Ex: Given the following strings...  \n",
    "\n",
    "s = \"abccba\", return \"\"  \n",
    "s = \"foobar\", return \"fbar\"  \n",
    "s = \"abccbefggfe\", return \"a\""
   ]
  },
  {
   "cell_type": "code",
   "execution_count": 9,
   "metadata": {},
   "outputs": [],
   "source": [
    "def remove_adjacent_duplicates(string):\n",
    "    \n",
    "    stack = []\n",
    "    \n",
    "    for char in string:\n",
    "        if len(stack) == 0:\n",
    "            stack.append(char)\n",
    "            \n",
    "        else:\n",
    "            if stack[-1] == char:\n",
    "                stack.pop()\n",
    "                \n",
    "            else:\n",
    "                stack.append(char)\n",
    "    \n",
    "    return \"\".join(stack)"
   ]
  },
  {
   "cell_type": "markdown",
   "metadata": {},
   "source": [
    "### July 16th: Greater Elements  \n",
    "\n",
    "Given two arrays of numbers, where the first array is a subset of the second array, return an array containing all the next greater elements for each element in the first array, in the second array. If there is no greater element for any element, output -1 for that number.  \n",
    "\n",
    "Ex: Given the following arrays…  \n",
    "\n",
    "nums1 = [4,1,2], nums2 = [1,3,4,2], return [-1, 3, -1] because no element in nums2 is greater than 4, 3 is the first number in nums2 greater than 1, and no element in nums2 is greater than 2.  \n",
    "nums1 = [2,4], nums2 = [1,2,3,4], return [3, -1] because 3 is the first greater element that occurs in nums2 after 2 and no element is greater than 4."
   ]
  },
  {
   "cell_type": "code",
   "execution_count": null,
   "metadata": {},
   "outputs": [],
   "source": []
  },
  {
   "cell_type": "code",
   "execution_count": null,
   "metadata": {},
   "outputs": [],
   "source": []
  },
  {
   "cell_type": "code",
   "execution_count": null,
   "metadata": {},
   "outputs": [],
   "source": []
  },
  {
   "cell_type": "code",
   "execution_count": null,
   "metadata": {},
   "outputs": [],
   "source": []
  },
  {
   "cell_type": "code",
   "execution_count": null,
   "metadata": {},
   "outputs": [],
   "source": []
  },
  {
   "cell_type": "code",
   "execution_count": null,
   "metadata": {},
   "outputs": [],
   "source": []
  },
  {
   "cell_type": "code",
   "execution_count": null,
   "metadata": {},
   "outputs": [],
   "source": []
  }
 ],
 "metadata": {
  "kernelspec": {
   "display_name": "Python 3",
   "language": "python",
   "name": "python3"
  },
  "language_info": {
   "codemirror_mode": {
    "name": "ipython",
    "version": 3
   },
   "file_extension": ".py",
   "mimetype": "text/x-python",
   "name": "python",
   "nbconvert_exporter": "python",
   "pygments_lexer": "ipython3",
   "version": "3.7.9"
  }
 },
 "nbformat": 4,
 "nbformat_minor": 4
}
