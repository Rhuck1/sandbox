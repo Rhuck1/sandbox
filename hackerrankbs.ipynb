{
 "cells": [
  {
   "cell_type": "code",
   "execution_count": 21,
   "metadata": {},
   "outputs": [],
   "source": [
    "def perm_list(x, y, z, n):\n",
    "    \n",
    "    final = []\n",
    "    \n",
    "    for valx in range(x + 1):\n",
    "        for valy in range(y + 1):\n",
    "            for valz in range(z + 1):\n",
    "                lst = [valx, valy, valz]\n",
    "                if sum(lst) != n:\n",
    "                    final.append(lst)\n",
    "                    \n",
    "    return final\n",
    "\n",
    "def perm_list_comp(x, y, z, n):\n",
    "    \n",
    "    res = [[valx, valy, valz] for valx in range(x + 1) for valy in range(y + 1) for valz in range(z + 1) if sum([valx, valy, valz]) != n] \n",
    "    \n",
    "    return res"
   ]
  },
  {
   "cell_type": "code",
   "execution_count": 46,
   "metadata": {},
   "outputs": [],
   "source": [
    "def scorer(N, name, score):\n",
    "    students = []\n",
    "    \n",
    "    for _ in range(int(N = input())):\n",
    "        name = input()\n",
    "        score = float(input())\n",
    "        \n",
    "        students.append([name, score])\n",
    "     \n",
    "    students_sort1 = sorted(students, key=lambda x: x[1], reverse=True)\n",
    "    \n",
    "    second_lowest_val = students_sort1[-2][1]\n",
    "    \n",
    "    final_students = [stud for stud in students_sort1 if stud[1] == second_lowest_val]\n",
    "    \n",
    "    # for stud in students_sort1:\n",
    "    #     if stud[1] == second_lowest_val:\n",
    "    #         final_students.append(stud)\n",
    "    \n",
    "    final_students_sorted = sorted(final_students, key=lambda tup: tup[0])\n",
    "    \n",
    "    for name in final_students_sorted:\n",
    "        print(name[0])"
   ]
  },
  {
   "cell_type": "code",
   "execution_count": 47,
   "metadata": {},
   "outputs": [
    {
     "ename": "TypeError",
     "evalue": "scorer() missing 3 required positional arguments: 'N', 'name', and 'score'",
     "output_type": "error",
     "traceback": [
      "\u001b[0;31m---------------------------------------------------------------------------\u001b[0m",
      "\u001b[0;31mTypeError\u001b[0m                                 Traceback (most recent call last)",
      "\u001b[0;32m<ipython-input-47-08e46fe47b72>\u001b[0m in \u001b[0;36m<module>\u001b[0;34m\u001b[0m\n\u001b[0;32m----> 1\u001b[0;31m \u001b[0mscorer\u001b[0m\u001b[0;34m(\u001b[0m\u001b[0;34m)\u001b[0m\u001b[0;34m\u001b[0m\u001b[0;34m\u001b[0m\u001b[0m\n\u001b[0m",
      "\u001b[0;31mTypeError\u001b[0m: scorer() missing 3 required positional arguments: 'N', 'name', and 'score'"
     ]
    }
   ],
   "source": [
    "scorer()"
   ]
  },
  {
   "cell_type": "code",
   "execution_count": null,
   "metadata": {},
   "outputs": [],
   "source": [
    "    [('Harry', 37.21)]\n",
    "\n",
    "    [('Berry', 37.21)]\n",
    "\n",
    "    [('Tina', 37.2)]\n",
    "\n",
    "    [('Akriti', 41.0)]\n",
    "\n",
    "    [('Harsh', 39.0)]"
   ]
  },
  {
   "cell_type": "markdown",
   "metadata": {},
   "source": [
    "Need to cover these edge cases"
   ]
  },
  {
   "cell_type": "code",
   "execution_count": 39,
   "metadata": {},
   "outputs": [
    {
     "ename": "SyntaxError",
     "evalue": "invalid syntax (<ipython-input-39-d282ee898ec7>, line 21)",
     "output_type": "error",
     "traceback": [
      "\u001b[0;36m  File \u001b[0;32m\"<ipython-input-39-d282ee898ec7>\"\u001b[0;36m, line \u001b[0;32m21\u001b[0m\n\u001b[0;31m    Expected Output\u001b[0m\n\u001b[0m                  ^\u001b[0m\n\u001b[0;31mSyntaxError\u001b[0m\u001b[0;31m:\u001b[0m invalid syntax\n"
     ]
    }
   ],
   "source": [
    "5\n",
    "\n",
    "Harsh\n",
    "\n",
    "20\n",
    "\n",
    "Beria\n",
    "\n",
    "20\n",
    "\n",
    "Varun\n",
    "\n",
    "19\n",
    "\n",
    "Kakunami\n",
    "\n",
    "19\n",
    "\n",
    "Vikas\n",
    "\n",
    "21\n",
    "\n",
    "Expected Output\n",
    "\n",
    "    Beria\n",
    "\n",
    "    Harsh"
   ]
  },
  {
   "cell_type": "code",
   "execution_count": 40,
   "metadata": {},
   "outputs": [
    {
     "ename": "SyntaxError",
     "evalue": "invalid syntax (<ipython-input-40-8c6b93273136>, line 19)",
     "output_type": "error",
     "traceback": [
      "\u001b[0;36m  File \u001b[0;32m\"<ipython-input-40-8c6b93273136>\"\u001b[0;36m, line \u001b[0;32m19\u001b[0m\n\u001b[0;31m    Expected Output\u001b[0m\n\u001b[0m                  ^\u001b[0m\n\u001b[0;31mSyntaxError\u001b[0m\u001b[0;31m:\u001b[0m invalid syntax\n"
     ]
    }
   ],
   "source": [
    "    4\n",
    "\n",
    "    Rachel\n",
    "\n",
    "    -50\n",
    "\n",
    "    Mawer\n",
    "\n",
    "    -50\n",
    "\n",
    "    Sheen\n",
    "\n",
    "    -50\n",
    "\n",
    "    Shaheen\n",
    "\n",
    "    51\n",
    "    \n",
    "Expected Output\n",
    "\n",
    "    Shaheen"
   ]
  }
 ],
 "metadata": {
  "kernelspec": {
   "display_name": "Python 3",
   "language": "python",
   "name": "python3"
  },
  "language_info": {
   "codemirror_mode": {
    "name": "ipython",
    "version": 3
   },
   "file_extension": ".py",
   "mimetype": "text/x-python",
   "name": "python",
   "nbconvert_exporter": "python",
   "pygments_lexer": "ipython3",
   "version": "3.7.9"
  }
 },
 "nbformat": 4,
 "nbformat_minor": 4
}
