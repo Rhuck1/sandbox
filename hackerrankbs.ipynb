{
 "cells": [
  {
   "cell_type": "code",
   "execution_count": 1,
   "metadata": {},
   "outputs": [],
   "source": [
    "import pandas as pd"
   ]
  },
  {
   "cell_type": "code",
   "execution_count": 2,
   "metadata": {},
   "outputs": [],
   "source": [
    "takeup = 'data/asec19_takeup.sas7bdat'\n",
    "early = 'data/hhpub18early_18par.sas7bdat'"
   ]
  },
  {
   "cell_type": "code",
   "execution_count": 3,
   "metadata": {},
   "outputs": [
    {
     "name": "stderr",
     "output_type": "stream",
     "text": [
      "/home/bobbyhuck/anaconda3/lib/python3.7/site-packages/pandas/io/sas/sas7bdat.py:800: PerformanceWarning: DataFrame is highly fragmented.  This is usually the result of calling `frame.insert` many times, which has poor performance.  Consider using pd.concat instead.  To get a de-fragmented frame, use `newframe = frame.copy()`\n",
      "  rslt[name] = self._byte_chunk[jb, :].view(dtype=self.byte_order + \"d\")\n",
      "/home/bobbyhuck/anaconda3/lib/python3.7/site-packages/pandas/io/sas/sas7bdat.py:809: PerformanceWarning: DataFrame is highly fragmented.  This is usually the result of calling `frame.insert` many times, which has poor performance.  Consider using pd.concat instead.  To get a de-fragmented frame, use `newframe = frame.copy()`\n",
      "  rslt[name] = self._string_chunk[js, :]\n"
     ]
    }
   ],
   "source": [
    "take_up = pd.read_sas(takeup)\n",
    "early_ = pd.read_sas(early)"
   ]
  },
  {
   "cell_type": "code",
   "execution_count": 6,
   "metadata": {},
   "outputs": [
    {
     "data": {
      "text/plain": [
       "(180101, 34)"
      ]
     },
     "execution_count": 6,
     "metadata": {},
     "output_type": "execute_result"
    }
   ],
   "source": [
    "take_up.shape"
   ]
  },
  {
   "cell_type": "code",
   "execution_count": 7,
   "metadata": {},
   "outputs": [
    {
     "data": {
      "text/plain": [
       "(5000, 127)"
      ]
     },
     "execution_count": 7,
     "metadata": {},
     "output_type": "execute_result"
    }
   ],
   "source": [
    "early_.shape"
   ]
  },
  {
   "cell_type": "markdown",
   "metadata": {},
   "source": [
    "## **1. Sign-in Sign-out Logs**\n",
    "\n",
    "Application logs are used in analysis of interactions with an application and may be used to detect specific actions.  \n",
    "\n",
    "A log file is provided as a string aray where each entry is in the form \"*user_id timestamp action*\". Each of the values is separated by a space.  \n",
    "\n",
    "* Both *user_id* and *timestamp* consist only of digits, are at most 9 digits long and start with a non-zero digit.  \n",
    "* *timestamp* represents the time in seconds since the application was last launched.  \n",
    "* *action* will be either \"sign-in\" or \"sign-out\".  \n",
    "\n",
    "Give a log with entries in no particular order, return an array of strings that denote *user_id*'s of users who signed out in *maxSpan* seconds or less after signing in.  \n",
    "\n",
    "**Example**  \n",
    "n = 7  \n",
    "logs = ['30 99 sign-in', '30 105 sign-out', '12 100 sign-in', '20 80 sign-in', '12 120 sign-out', '20 101 sign-out', '21 110 sign-in']  \n",
    "maxSpan = 20  \n",
    "\n",
    "ID Sign in Sign out Time delta\n",
    "__ _______ ________ __________\n",
    "30 99      105      6  \n",
    "12 100     120      20  \n",
    "20 80      101      21  \n",
    "21 110  \n",
    "\n",
    "The users with id's 30 and 12 were not signed in for more than *maxSpan* = 20 seconds. In sorted numerical order, the return array is ['12', '30']  \n",
    "\n",
    "**Function Description**  \n",
    "\n",
    "Complete the function *processLogs* in the editor below.  \n",
    "\n",
    "The function has the following parameters(s):  \n",
    "string *logs[n]*: each *logs[i]* denotes teh ith entry in the logs  \n",
    "int *maxSpan*: the maximum difference in seconds between when a user logs in and logs out for the user to be included in the result    \n",
    "Returns:  \n",
    "*string*: a string array of user id's, sorted ascending by numeric value"
   ]
  },
  {
   "cell_type": "code",
   "execution_count": null,
   "metadata": {},
   "outputs": [],
   "source": [
    "import numpy as np\n",
    "import pandas as pd\n",
    "\n",
    "def processLogs(logs, maxSpan):\n",
    "\n",
    "    data_array = np.array(logs)\n",
    "\n",
    "    df = pd.DataFrame(data, columns=['ID', 'Sign in', 'Sign out', 'Time Delta'])"
   ]
  },
  {
   "cell_type": "markdown",
   "metadata": {},
   "source": [
    "Could make a dict to store id's and if 'sign-in' then note initial value. if 'sign-out' then create another dict where key, val are in-out figures\n",
    "\n",
    "Keep in mind edge cases in which 'sign-out' of a particular id could come before 'sign-in'"
   ]
  },
  {
   "cell_type": "code",
   "execution_count": 8,
   "metadata": {},
   "outputs": [],
   "source": [
    "import numpy as np\n",
    "import pandas as pd\n",
    "\n",
    "def processLogs(logs, maxSpan):\n",
    "\n",
    "    data_array = np.array(logs)\n",
    "\n",
    "    #df = pd.DataFrame(data_array, columns=['ID', 'Sign in', 'Sign out', 'Time Delta'])\n",
    "    \n",
    "    return data_array"
   ]
  },
  {
   "cell_type": "code",
   "execution_count": 9,
   "metadata": {},
   "outputs": [
    {
     "data": {
      "text/plain": [
       "array(['30 99 sign-in', '30 105 sign-out', '12 100 sign-in',\n",
       "       '20 80 sign-in', '12 120 sign-out', '20 101 sign-out',\n",
       "       '21 110 sign-in'], dtype='<U15')"
      ]
     },
     "execution_count": 9,
     "metadata": {},
     "output_type": "execute_result"
    }
   ],
   "source": [
    "logs = ['30 99 sign-in', '30 105 sign-out', '12 100 sign-in', '20 80 sign-in', '12 120 sign-out', '20 101 sign-out', '21 110 sign-in']\n",
    "\n",
    "maxSpan = 20\n",
    "\n",
    "processLogs(logs, maxSpan)"
   ]
  },
  {
   "cell_type": "markdown",
   "metadata": {},
   "source": [
    "## **2. Optimal Meeting Slots**  \n",
    "\n",
    "**Problem Description**  \n",
    "You need to implememnt a meeting scheduler that uses the schedules of the employees to find a specific number of optimal meeting slots where the largest number of employees can attend.  \n",
    "\n",
    "Input:  \n",
    "1. An integer *num_slots* representing the total number of meeting slots to return  \n",
    "2. A list of lists of strings representing each employee's list of meetings (parameter employee_schedules). Meetings are specified as strings in th format \"XX:XX-YY:YY\" with XX:XX as the beginning time of the meeting and YY:YY as the end time of the meeting, all in zero-padded 24-hour time. The very end of the day can be expressed as 24:00 for simplicity\n",
    "\n",
    "Example Input\n",
    "3  \n",
    "[\n",
    "[\"00:00-05:30\"],\n",
    "[\"00:00-05:00\", \"08:00-22:00\"],\n",
    "[\"00:00-12:30\"]\n",
    "]\n",
    "\n",
    "Output:  \n",
    "A list of strings representing the optima meeting times in earlies-to-latest order. An unsorted output will count as incorrect. Optimal is defined as follows:\n",
    "1. Meetings with the highest number of employees should be prioritized.\n",
    "2. For meetings with the same number of employees that can attend, the meeting with the earlier start time should be prioritized.\n",
    "\n",
    "Note:  \n",
    "If the number of possible valid meeting slots that can be constructed is less than the requested amount, *num_slots*, the function should return and empty list of meeting slots([])\n",
    "\n",
    "Constraints and assumptions:  \n",
    "\n",
    "* Input employee meeting schedules will always consist of valid meetings and in the specified format\n",
    "* Valid outputted meetings do not overlap\n",
    "* Two meetings: 12:30-13:00 and 13:00-14:00 do not overlap, where the first is a meeting that ends at 1:00pm and the second is a meeting that starts at 1:00pm\n",
    "* Any employee who is not in a meeting at any given time is considered \"free\" and can be scheduled for a meeeting. Inversely, an employee who is scheduled for a meeting at a given time cannot attend any other mettings at that time. This is also true for meeting slots.\n",
    "* Meetings are scheduled at 15 min intervals (i.e. 07:15 is a valid start time or end time for a meeting, 18:47 is not). As a consequence, an meetings scheduled must be at least 15 min in length.  \n",
    "* A meeting cannot be scheduled for a time if fewer than 2 employees are available at that time.  \n",
    "* Importantly, meeting slots must be selected for the maximum amount of time possible wihtout decreasing the number of employees that can attend while still generating valid, optimal meeting slots. In other words, if some set of employees are all available from 10:00-10:30, the valid meeting slot would be 10:00-10:30, 2 meeting slots from 10:00-10:15 and 10:15-10:30 would not be valid and distinct.\n",
    "* If 3 other coworkers (for a total of 6 participants) are available during a chunk of the potential meeting slot (i.e. 10:15-10:30), to still output the most optimal shiwl still valid slots, two valid slots (due to valid slots not overlapping) can be formed. One with 6 participants 10:15-10:30 (more optimal) and one with 3 participants from 10:00-10:15 (less optimal).\n",
    "\n",
    "Example Output:\n",
    "[\"05:30-08:00\", \"12:30-22:00\", \"22:00-24:00\"]  \n",
    "\n",
    "The value of *num_slots* is 3 and the 3 valid optimal meeting slots were returned. The 3rd meeting slot has 3 available participants, and the first two each only had two available participants. The output is sorted in earliest-to-latest order. The full available, distinct meeting slots are returned not truncated to allow for more meetings (such as incorrectly splitting up \"22:00-24:00\" into shorted contiguous meeting slots).\n",
    "\n",
    "Hint:  \n",
    "You might find it helpful to think aobu the problem by considering each 15 min time slot as a discrete unit, where a given employee may ore may not have availability."
   ]
  },
  {
   "cell_type": "code",
   "execution_count": null,
   "metadata": {},
   "outputs": [],
   "source": [
    "def fing_meeting_slots(num_slots, employee_schedules):\n",
    "    \n",
    "    pass"
   ]
  },
  {
   "cell_type": "code",
   "execution_count": null,
   "metadata": {},
   "outputs": [],
   "source": []
  },
  {
   "cell_type": "code",
   "execution_count": null,
   "metadata": {},
   "outputs": [],
   "source": []
  }
 ],
 "metadata": {
  "kernelspec": {
   "display_name": "Python 3",
   "language": "python",
   "name": "python3"
  },
  "language_info": {
   "codemirror_mode": {
    "name": "ipython",
    "version": 3
   },
   "file_extension": ".py",
   "mimetype": "text/x-python",
   "name": "python",
   "nbconvert_exporter": "python",
   "pygments_lexer": "ipython3",
   "version": "3.7.9"
  }
 },
 "nbformat": 4,
 "nbformat_minor": 4
}
