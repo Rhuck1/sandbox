{
 "cells": [
  {
   "cell_type": "code",
   "execution_count": 2,
   "metadata": {},
   "outputs": [],
   "source": [
    "import numpy as np\n",
    "import pandas as pd\n",
    "from math import log2"
   ]
  },
  {
   "cell_type": "code",
   "execution_count": 3,
   "metadata": {},
   "outputs": [
    {
     "name": "stdout",
     "output_type": "stream",
     "text": [
      "0.9910760598382222\n"
     ]
    }
   ],
   "source": [
    "a = 4/9\n",
    "\n",
    "b = 5/9\n",
    "\n",
    "def entropy(class0, class1):\n",
    "\treturn -(class0 * log2(class0) + class1 * log2(class1))\n",
    "\n",
    "print(entropy(a, b))"
   ]
  },
  {
   "cell_type": "code",
   "execution_count": 8,
   "metadata": {},
   "outputs": [],
   "source": [
    "def make_series(start, length, index):\n",
    "    '''Create a pandas Series of length \"length\" with index \"index\"\n",
    "    and with elements that are sequential integers starting from \"start\".\n",
    "    You may assume the length of index will be \"length\".\n",
    "\n",
    "    Parameters\n",
    "    ----------\n",
    "    start, length: int, int\n",
    "    index: list\n",
    "        Index of length \"length\"\n",
    "\n",
    "    Returns\n",
    "    -------\n",
    "    Pandas Series\n",
    "\n",
    "    >>>print(make_series(5, 3, ['a', 'b', 'c']))\n",
    "    a    5\n",
    "    b    6\n",
    "    c    7\n",
    "    dtype: int64\n",
    "    '''\n",
    "    return pd.Series(data=range(start, start+length), index=index)"
   ]
  },
  {
   "cell_type": "code",
   "execution_count": 9,
   "metadata": {},
   "outputs": [
    {
     "name": "stdout",
     "output_type": "stream",
     "text": [
      "a    5\n",
      "b    6\n",
      "c    7\n",
      "dtype: int64\n"
     ]
    }
   ],
   "source": [
    "print(make_series(5, 3, ['a', 'b', 'c']))"
   ]
  },
  {
   "cell_type": "code",
   "execution_count": 7,
   "metadata": {},
   "outputs": [
    {
     "data": {
      "text/plain": [
       "[]"
      ]
     },
     "execution_count": 7,
     "metadata": {},
     "output_type": "execute_result"
    }
   ],
   "source": [
    "list(range(5, 3))"
   ]
  },
  {
   "cell_type": "code",
   "execution_count": null,
   "metadata": {},
   "outputs": [],
   "source": [
    "def calculate_entropy(arr):\n",
    "    '''Return the Shannon entropy of a NumPy array containing only\n",
    "    two classes (integers 0 and 1).\n",
    "\n",
    "    You can assume that the array will always contain one or more values.\n",
    "    Do not assume that all classes are present in arr\n",
    "    \n",
    "    FOR FULL POINTS DO NOT USE AN IMPORTED ENTROPY FUNCTION\n",
    "\n",
    "    Parameters\n",
    "    ----------\n",
    "    arr: NumPy array\n",
    "        Elements of of arr are binary (0 or 1)\n",
    "\n",
    "    Returns\n",
    "    -------\n",
    "    float\n",
    "    '''\n",
    "    pass"
   ]
  },
  {
   "cell_type": "code",
   "execution_count": 11,
   "metadata": {},
   "outputs": [],
   "source": [
    "def sum_to_target(nums, target):\n",
    "    '''\n",
    "    Given an array of integers and a target integer, return \n",
    "    indices of the two numbers in the array that sum to equal \n",
    "    the target.\n",
    "\n",
    "    You may assume that each input would have exactly one solution,  \n",
    "    and you may not use an element at the same index more than once.\n",
    "    \n",
    "    Return the indices in ascending order.   \n",
    "    For full points your solution should have a runtime of O(N). \n",
    "\n",
    "    Parameters\n",
    "    ----------\n",
    "    nums: list\n",
    "    target: int\n",
    "\n",
    "    Returns\n",
    "    -------\n",
    "    list\n",
    "    \n",
    "    Input: nums = [3,2,4], target = 6\n",
    "    Output: [1,2]\n",
    "    '''\n",
    "    required = {}\n",
    "    for i in range(len(nums)):\n",
    "        if target - nums[i] in required:\n",
    "           return [required[target - nums[i]],i]\n",
    "        else:\n",
    "           required[nums[i]]=i"
   ]
  },
  {
   "cell_type": "code",
   "execution_count": 12,
   "metadata": {},
   "outputs": [
    {
     "name": "stdout",
     "output_type": "stream",
     "text": [
      "[1, 2]\n"
     ]
    }
   ],
   "source": [
    "a = [2,8,12,15]\n",
    "b = 20\n",
    "\n",
    "\n",
    "print(sum_to_target(a, b))"
   ]
  },
  {
   "cell_type": "code",
   "execution_count": null,
   "metadata": {},
   "outputs": [],
   "source": []
  },
  {
   "cell_type": "code",
   "execution_count": null,
   "metadata": {},
   "outputs": [],
   "source": []
  },
  {
   "cell_type": "code",
   "execution_count": null,
   "metadata": {},
   "outputs": [],
   "source": []
  }
 ],
 "metadata": {
  "kernelspec": {
   "display_name": "Python 3",
   "language": "python",
   "name": "python3"
  },
  "language_info": {
   "codemirror_mode": {
    "name": "ipython",
    "version": 3
   },
   "file_extension": ".py",
   "mimetype": "text/x-python",
   "name": "python",
   "nbconvert_exporter": "python",
   "pygments_lexer": "ipython3",
   "version": "3.7.9"
  }
 },
 "nbformat": 4,
 "nbformat_minor": 4
}
